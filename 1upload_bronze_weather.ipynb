{
 "cells": [
  {
   "cell_type": "code",
   "execution_count": 1,
   "id": "flush-fifteen",
   "metadata": {},
   "outputs": [
    {
     "name": "stdout",
     "output_type": "stream",
     "text": [
      "Requirement already satisfied: hdfs in /opt/conda/lib/python3.8/site-packages (2.6.0)\n",
      "Requirement already satisfied: docopt in /opt/conda/lib/python3.8/site-packages (from hdfs) (0.6.2)\n",
      "Requirement already satisfied: requests>=2.7.0 in /opt/conda/lib/python3.8/site-packages (from hdfs) (2.25.1)\n",
      "Requirement already satisfied: six>=1.9.0 in /opt/conda/lib/python3.8/site-packages (from hdfs) (1.15.0)\n",
      "Requirement already satisfied: urllib3<1.27,>=1.21.1 in /opt/conda/lib/python3.8/site-packages (from requests>=2.7.0->hdfs) (1.26.4)\n",
      "Requirement already satisfied: certifi>=2017.4.17 in /opt/conda/lib/python3.8/site-packages (from requests>=2.7.0->hdfs) (2020.12.5)\n",
      "Requirement already satisfied: chardet<5,>=3.0.2 in /opt/conda/lib/python3.8/site-packages (from requests>=2.7.0->hdfs) (4.0.0)\n",
      "Requirement already satisfied: idna<3,>=2.5 in /opt/conda/lib/python3.8/site-packages (from requests>=2.7.0->hdfs) (2.10)\n"
     ]
    }
   ],
   "source": [
    "# Install dependencies\n",
    "import sys\n",
    "!{sys.executable} -m pip install hdfs"
   ]
  },
  {
   "cell_type": "code",
   "execution_count": 2,
   "id": "affiliated-flash",
   "metadata": {},
   "outputs": [
    {
     "name": "stdout",
     "output_type": "stream",
     "text": [
      "Requirement already satisfied: pandas in /opt/conda/lib/python3.8/site-packages (1.2.3)\n",
      "Requirement already satisfied: python-dateutil>=2.7.3 in /opt/conda/lib/python3.8/site-packages (from pandas) (2.8.1)\n",
      "Requirement already satisfied: pytz>=2017.3 in /opt/conda/lib/python3.8/site-packages (from pandas) (2021.1)\n",
      "Requirement already satisfied: numpy>=1.16.5 in /opt/conda/lib/python3.8/site-packages (from pandas) (1.20.1)\n",
      "Requirement already satisfied: six>=1.5 in /opt/conda/lib/python3.8/site-packages (from python-dateutil>=2.7.3->pandas) (1.15.0)\n",
      "Note: you may need to restart the kernel to use updated packages.\n"
     ]
    }
   ],
   "source": [
    "pip install pandas"
   ]
  },
  {
   "cell_type": "code",
   "execution_count": 3,
   "id": "acceptable-theory",
   "metadata": {},
   "outputs": [
    {
     "name": "stdout",
     "output_type": "stream",
     "text": [
      "    Nº da Estação                                Estações        Lat       Lon\n",
      "0         1200545                   Porto - Pedras Rubras  41.233503 -8.681333\n",
      "1         1200548                     Coimbra (Aeródromo)  40.157600 -8.468517\n",
      "2         1200551                Viana do Castelo - Chafé  41.648875 -8.804606\n",
      "3         1200554                        Faro / Aeroporto  37.016578 -7.971953\n",
      "4         1200558                       Évora / Aeródromo  38.536542 -7.887958\n",
      "5         1200560                       Viseu / Aeródromo  40.714928 -7.895917\n",
      "6         1200562                                    Beja  38.025728 -7.867319\n",
      "7         1200567                   Vila Real / Aeródromo  41.274208 -7.717114\n",
      "8         1200570                          Castelo Branco  39.839500 -7.478669\n",
      "9         1200571                              Portalegre  39.294183 -7.421317\n",
      "10        1200575                                Bragança  41.803883 -6.742831\n",
      "11        1200579                    Lisboa Gago Coutinho  38.766203 -9.127494\n",
      "12        1210622                         Braga - Merelim  41.575869 -8.451108\n",
      "13        1210683                                  Guarda  40.528558 -7.278675\n",
      "14        1210702                   Aveiro / Universidade  40.635400 -8.659611\n",
      "15        1210718                      Leiria / Aeródromo  39.780553 -8.820967\n",
      "16        1210734  Santarém - Fonte Boa / Est. Zootécnica  39.201261 -8.736661\n",
      "17        1210770                                Setúbal   38.548497 -8.890783\n"
     ]
    },
    {
     "data": {
      "text/plain": [
       "Nº da Estação      int64\n",
       "Estações          object\n",
       "Lat              float64\n",
       "Lon              float64\n",
       "dtype: object"
      ]
     },
     "execution_count": 3,
     "metadata": {},
     "output_type": "execute_result"
    }
   ],
   "source": [
    "import pandas as pd\n",
    "import numpy as np\n",
    "\n",
    "from_pathJupyter = \"../work/IPMA_Distrito.xls\" \n",
    "\n",
    "#Load sheet1 to a DataFrame and extract the important data\n",
    "stationInfo = pd.read_excel(from_pathJupyter, sheet_name=0,header=16, usecols =[1, 2, 3, 4], skiprows=[17], skipfooter=0) \n",
    "\n",
    "print(stationInfo)\n",
    "stationInfo.dtypes"
   ]
  },
  {
   "cell_type": "code",
   "execution_count": 8,
   "id": "successful-corruption",
   "metadata": {},
   "outputs": [
    {
     "name": "stdout",
     "output_type": "stream",
     "text": [
      "    ANO  MÊS  DIA  1200545  1200548  1200551  1200554  1200558  1200560  \\\n",
      "0  2000    1    1      5.1      6.3   -990.0     10.8      7.0      6.9   \n",
      "1  2000    1    2      4.8      5.2   -990.0     10.5      7.1      6.0   \n",
      "2  2000    1    3      5.8      5.6   -990.0     10.4      6.2      5.6   \n",
      "3  2000    1    4      6.3      6.3   -990.0     11.6      6.1      6.1   \n",
      "4  2000    1    5      7.7      7.1   -990.0     11.4      4.9      4.3   \n",
      "5  2000    1    6     10.9     11.0   -990.0     14.1      9.6      7.0   \n",
      "6  2000    1    7      9.8      9.4   -990.0     11.2      7.8      7.3   \n",
      "7  2000    1    8      8.0      9.0   -990.0     10.8      8.1      7.2   \n",
      "8  2000    1    9      8.8      9.6   -990.0     12.4      9.3      6.5   \n",
      "9  2000    1   10      6.5      7.1   -990.0     10.9      5.8      3.1   \n",
      "\n",
      "   1200562  ...  1200570  1200571  1200575  1200579  1210622  1210683  \\\n",
      "0   -990.0  ...      5.7     10.2      1.2   -990.0   -990.0      6.1   \n",
      "1   -990.0  ...      6.0      8.8      0.3      8.2   -990.0      5.2   \n",
      "2   -990.0  ...      5.1      8.4     -1.7      7.3   -990.0      4.0   \n",
      "3      7.9  ...      4.7      7.8     -1.8      7.8   -990.0      3.0   \n",
      "4      7.8  ...      2.1      6.8      0.0      7.7   -990.0      0.8   \n",
      "5      9.8  ...      5.5      8.4      2.8     11.5     10.8      2.9   \n",
      "6      8.6  ...      7.3      9.6      1.5      9.7      7.0      5.1   \n",
      "7      8.8  ...      7.6      9.6      0.4      9.9      6.7      5.4   \n",
      "8      9.0  ...      8.3      7.8      4.1     11.4      9.1      3.7   \n",
      "9      6.9  ...      5.6      5.0      2.6      9.4      4.5     -0.2   \n",
      "\n",
      "   1210702  1210718  1210734  1210770  \n",
      "0   -990.0   -990.0      6.7      7.3  \n",
      "1   -990.0   -990.0      6.3      7.9  \n",
      "2   -990.0   -990.0   -990.0      5.5  \n",
      "3   -990.0   -990.0      7.0      5.0  \n",
      "4      8.3   -990.0      6.2      6.6  \n",
      "5     12.4   -990.0     10.6     11.7  \n",
      "6      9.8   -990.0      9.3      7.6  \n",
      "7      9.6   -990.0      9.0      7.4  \n",
      "8     10.5   -990.0     10.7     11.4  \n",
      "9      8.9   -990.0      8.4      8.9  \n",
      "\n",
      "[10 rows x 21 columns]\n"
     ]
    },
    {
     "data": {
      "text/plain": [
       "ANO          int64\n",
       "MÊS          int64\n",
       "DIA          int64\n",
       "1200545    float64\n",
       "1200548    float64\n",
       "1200551    float64\n",
       "1200554    float64\n",
       "1200558    float64\n",
       "1200560    float64\n",
       "1200562    float64\n",
       "1200567    float64\n",
       "1200570    float64\n",
       "1200571    float64\n",
       "1200575    float64\n",
       "1200579    float64\n",
       "1210622    float64\n",
       "1210683    float64\n",
       "1210702    float64\n",
       "1210718    float64\n",
       "1210734    float64\n",
       "1210770    float64\n",
       "dtype: object"
      ]
     },
     "execution_count": 8,
     "metadata": {},
     "output_type": "execute_result"
    }
   ],
   "source": [
    "#Load sheet2 to a DataFrame\n",
    "avgTemperature = pd.read_excel(from_pathJupyter, sheet_name=1,header=0) \n",
    "\n",
    "print(avgTemperature.head(10))\n",
    "avgTemperature.dtypes"
   ]
  },
  {
   "cell_type": "code",
   "execution_count": 7,
   "id": "silent-panama",
   "metadata": {},
   "outputs": [
    {
     "name": "stdout",
     "output_type": "stream",
     "text": [
      "    ANO  MÊS  DIA  1200545  1200548  1200551  1200554  1200558  1200560  \\\n",
      "0  2000    1    1     10.8     12.3   -990.0     14.8     14.6     12.2   \n",
      "1  2000    1    2     11.5     11.6   -990.0     14.9     14.2     12.4   \n",
      "2  2000    1    3     11.9     12.6   -990.0     15.0     13.3     10.8   \n",
      "3  2000    1    4     12.1     12.7   -990.0     16.3     13.4     11.1   \n",
      "4  2000    1    5     13.4     12.2   -990.0     14.7     10.4      9.7   \n",
      "5  2000    1    6     15.3     14.5   -990.0     16.0     14.0     13.1   \n",
      "6  2000    1    7     15.7     15.8   -990.0     16.0     15.1     13.2   \n",
      "7  2000    1    8     11.7     14.8   -990.0     15.9     14.8     11.4   \n",
      "8  2000    1    9     13.0     12.7   -990.0     16.3     13.0     10.4   \n",
      "9  2000    1   10     12.8     11.4   -990.0     15.0     11.6      7.4   \n",
      "\n",
      "   1200562  ...  1200570  1200571  1200575  1200579  1210622  1210683  \\\n",
      "0   -990.0  ...     11.7     14.4      9.1     12.1   -990.0     10.9   \n",
      "1   -990.0  ...     11.3     11.7      7.9     12.7   -990.0      9.7   \n",
      "2     14.3  ...      9.8     13.2     -0.7     11.4   -990.0      6.9   \n",
      "3     13.4  ...      9.4     12.5     -0.2     11.4   -990.0      7.0   \n",
      "4     11.8  ...      3.3     11.0      1.9     11.3   -990.0      2.6   \n",
      "5     13.6  ...      9.0     12.5      6.3     15.2     15.8      4.5   \n",
      "6     14.7  ...     12.8     14.0      8.9     13.2     16.2      9.1   \n",
      "7     14.6  ...     13.1     12.9      2.2     15.2     10.5      8.6   \n",
      "8     13.3  ...     12.0     11.1     11.4     13.8     12.3      5.6   \n",
      "9     11.5  ...     10.3      8.4      7.8     12.3     13.4      3.0   \n",
      "\n",
      "   1210702  1210718  1210734  1210770  \n",
      "0   -990.0   -990.0   -990.0     13.1  \n",
      "1   -990.0   -990.0   -990.0     14.0  \n",
      "2   -990.0   -990.0   -990.0     14.6  \n",
      "3   -990.0   -990.0     13.2     15.4  \n",
      "4     13.8   -990.0     11.3     15.5  \n",
      "5     16.2   -990.0     15.6     16.2  \n",
      "6     14.4   -990.0     15.5     15.9  \n",
      "7     15.4   -990.0     16.6     16.2  \n",
      "8     13.5   -990.0     14.2     15.1  \n",
      "9     13.3   -990.0     13.3     13.6  \n",
      "\n",
      "[10 rows x 21 columns]\n"
     ]
    },
    {
     "data": {
      "text/plain": [
       "ANO          int64\n",
       "MÊS          int64\n",
       "DIA          int64\n",
       "1200545    float64\n",
       "1200548    float64\n",
       "1200551    float64\n",
       "1200554    float64\n",
       "1200558    float64\n",
       "1200560    float64\n",
       "1200562    float64\n",
       "1200567    float64\n",
       "1200570    float64\n",
       "1200571    float64\n",
       "1200575    float64\n",
       "1200579    float64\n",
       "1210622    float64\n",
       "1210683    float64\n",
       "1210702    float64\n",
       "1210718    float64\n",
       "1210734    float64\n",
       "1210770    float64\n",
       "dtype: object"
      ]
     },
     "execution_count": 7,
     "metadata": {},
     "output_type": "execute_result"
    }
   ],
   "source": [
    "#Load sheet3 to a DataFrame\n",
    "maxTemperature = pd.read_excel(from_pathJupyter, sheet_name=2,header=0) \n",
    "\n",
    "print(maxTemperature.head(10))\n",
    "maxTemperature.dtypes"
   ]
  },
  {
   "cell_type": "code",
   "execution_count": 9,
   "id": "tight-morrison",
   "metadata": {},
   "outputs": [
    {
     "name": "stdout",
     "output_type": "stream",
     "text": [
      "    ANO  MÊS  DIA  1200545  1200548  1200551  1200554  1200558  1200560  \\\n",
      "0  2000    1    1      1.2      1.7   -990.0      5.7      1.1      3.2   \n",
      "1  2000    1    2      1.0     -0.4   -990.0      6.2      2.0      1.5   \n",
      "2  2000    1    3      2.5      1.0   -990.0      5.5      1.0      1.9   \n",
      "3  2000    1    4      2.5      1.3   -990.0      8.4     -0.3      2.7   \n",
      "4  2000    1    5      3.3      1.6   -990.0      8.2     -0.7      0.0   \n",
      "5  2000    1    6      8.4      6.7   -990.0      9.8      6.2      4.1   \n",
      "6  2000    1    7      6.5      5.3   -990.0      6.6      2.4      3.3   \n",
      "7  2000    1    8      5.6      3.8   -990.0      5.5      1.1      4.8   \n",
      "8  2000    1    9      4.4      5.2   -990.0      8.6      4.0      3.3   \n",
      "9  2000    1   10      1.2      4.0   -990.0      7.8      1.8      0.8   \n",
      "\n",
      "   1200562  ...  1200570  1200571  1200575  1200579  1210622  1210683  \\\n",
      "0   -990.0  ...     -0.2      7.1     -4.1   -990.0   -990.0      3.3   \n",
      "1   -990.0  ...      0.8      6.9     -4.2      4.9   -990.0      2.0   \n",
      "2   -990.0  ...      0.1      5.7     -3.0      3.5   -990.0      1.3   \n",
      "3      3.7  ...      0.8      5.5     -2.9      4.4   -990.0      0.8   \n",
      "4      3.5  ...     -0.3      4.5     -1.3      3.7   -990.0     -0.2   \n",
      "5      7.1  ...      3.2      7.0     -0.1      8.2      4.8      0.5   \n",
      "6      4.1  ...      3.2      6.2     -2.7      7.1      1.1      2.4   \n",
      "7      4.2  ...      3.1      7.8     -1.4      5.0      1.8      3.0   \n",
      "8      6.0  ...      4.9      5.0      1.0      9.7      3.3      0.4   \n",
      "9      3.1  ...      2.8      2.8     -1.6      7.4     -1.7     -2.3   \n",
      "\n",
      "   1210702  1210718  1210734  1210770  \n",
      "0   -990.0   -990.0      1.9      3.3  \n",
      "1   -990.0   -990.0      2.1      1.6  \n",
      "2   -990.0   -990.0   -990.0     -0.6  \n",
      "3   -990.0   -990.0      2.5     -0.6  \n",
      "4      3.1   -990.0      2.2     -1.3  \n",
      "5      8.9   -990.0      7.1      5.4  \n",
      "6      5.2   -990.0      5.2      1.9  \n",
      "7      5.7   -990.0      2.1      0.1  \n",
      "8      5.4   -990.0      7.0      8.5  \n",
      "9      4.6   -990.0      4.8      5.8  \n",
      "\n",
      "[10 rows x 21 columns]\n"
     ]
    },
    {
     "data": {
      "text/plain": [
       "ANO          int64\n",
       "MÊS          int64\n",
       "DIA          int64\n",
       "1200545    float64\n",
       "1200548    float64\n",
       "1200551    float64\n",
       "1200554    float64\n",
       "1200558    float64\n",
       "1200560    float64\n",
       "1200562    float64\n",
       "1200567    float64\n",
       "1200570    float64\n",
       "1200571    float64\n",
       "1200575    float64\n",
       "1200579    float64\n",
       "1210622    float64\n",
       "1210683    float64\n",
       "1210702    float64\n",
       "1210718    float64\n",
       "1210734    float64\n",
       "1210770    float64\n",
       "dtype: object"
      ]
     },
     "execution_count": 9,
     "metadata": {},
     "output_type": "execute_result"
    }
   ],
   "source": [
    "#Load sheet4 to a DataFrame\n",
    "minTemperature = pd.read_excel(from_pathJupyter, sheet_name=3,header=0) \n",
    "\n",
    "print(minTemperature.head(10))\n",
    "minTemperature.dtypes"
   ]
  },
  {
   "cell_type": "code",
   "execution_count": 10,
   "id": "brutal-extra",
   "metadata": {},
   "outputs": [
    {
     "name": "stdout",
     "output_type": "stream",
     "text": [
      "    ANO  MÊS  DIA  1200545  1200548  1200551  1200554  1200558  1200560  \\\n",
      "0  2000    1    1      0.0      0.0   -990.0      0.0      0.0      0.0   \n",
      "1  2000    1    2      0.1      0.0   -990.0      0.0      0.0      0.0   \n",
      "2  2000    1    3      0.0      0.0   -990.0      0.0      0.0      0.0   \n",
      "3  2000    1    4      0.0      0.0   -990.0      0.0      0.1      0.0   \n",
      "4  2000    1    5      0.0      0.0   -990.0      0.0      0.1      0.0   \n",
      "5  2000    1    6      0.1      0.0   -990.0      0.0      0.0      0.0   \n",
      "6  2000    1    7      0.0      0.0   -990.0      0.0      0.0      0.0   \n",
      "7  2000    1    8      7.3      0.0   -990.0      0.0      0.0      0.0   \n",
      "8  2000    1    9      0.4      1.4   -990.0      0.0      0.0      0.0   \n",
      "9  2000    1   10      0.0      0.0   -990.0      0.0      0.0      0.0   \n",
      "\n",
      "   1200562  ...  1200570  1200571  1200575  1200579  1210622  1210683  \\\n",
      "0   -990.0  ...      0.0      0.0      0.0   -990.0   -990.0      0.0   \n",
      "1   -990.0  ...      0.0      0.0      0.0      0.0   -990.0      0.0   \n",
      "2   -990.0  ...      0.0      0.0      0.0      0.0   -990.0      0.0   \n",
      "3      0.0  ...      0.0      0.0      0.0      0.0   -990.0      0.0   \n",
      "4      0.0  ...      0.1      0.0      0.0      0.0   -990.0      0.0   \n",
      "5      0.6  ...      0.0   -990.0      0.0      1.5      0.0      0.2   \n",
      "6      0.0  ...      0.0      0.0      0.0      0.0      0.0   -990.0   \n",
      "7      0.0  ...      0.0      0.0      0.2      0.0      3.7      0.0   \n",
      "8      0.0  ...      0.0      0.0      0.0      0.1      0.2      1.9   \n",
      "9      0.0  ...   -990.0      0.0      0.0      0.0      0.0      0.0   \n",
      "\n",
      "   1210702  1210718  1210734  1210770  \n",
      "0   -990.0   -990.0   -990.0      0.0  \n",
      "1   -990.0   -990.0   -990.0      0.0  \n",
      "2   -990.0   -990.0   -990.0      0.0  \n",
      "3   -990.0   -990.0   -990.0      0.0  \n",
      "4      0.0   -990.0   -990.0      0.0  \n",
      "5      0.0   -990.0   -990.0      0.0  \n",
      "6      0.0   -990.0      0.0      0.0  \n",
      "7      5.4   -990.0      1.7      0.0  \n",
      "8      1.0   -990.0      0.1      0.4  \n",
      "9      0.0   -990.0      0.0      0.0  \n",
      "\n",
      "[10 rows x 21 columns]\n"
     ]
    },
    {
     "data": {
      "text/plain": [
       "ANO          int64\n",
       "MÊS          int64\n",
       "DIA          int64\n",
       "1200545    float64\n",
       "1200548    float64\n",
       "1200551    float64\n",
       "1200554    float64\n",
       "1200558    float64\n",
       "1200560    float64\n",
       "1200562    float64\n",
       "1200567    float64\n",
       "1200570    float64\n",
       "1200571    float64\n",
       "1200575    float64\n",
       "1200579    float64\n",
       "1210622    float64\n",
       "1210683    float64\n",
       "1210702    float64\n",
       "1210718    float64\n",
       "1210734    float64\n",
       "1210770    float64\n",
       "dtype: object"
      ]
     },
     "execution_count": 10,
     "metadata": {},
     "output_type": "execute_result"
    }
   ],
   "source": [
    "#Load sheet5 to a DataFrame\n",
    "rainQty = pd.read_excel(from_pathJupyter, sheet_name=4,header=0) \n",
    "\n",
    "print(rainQty.head(10))\n",
    "rainQty.dtypes"
   ]
  },
  {
   "cell_type": "code",
   "execution_count": 11,
   "id": "tender-underground",
   "metadata": {},
   "outputs": [
    {
     "name": "stdout",
     "output_type": "stream",
     "text": [
      "    ANO  MÊS  DIA  1200545  1200548  1200551  1200554  1200558  1200560  \\\n",
      "0  2000    1    1   -990.0   -990.0   -990.0   -990.0  10526.9   8832.9   \n",
      "1  2000    1    2   -990.0   -990.0   -990.0   -990.0  10604.5   9587.2   \n",
      "2  2000    1    3   -990.0   -990.0   -990.0   -990.0  10205.6   9469.1   \n",
      "3  2000    1    4   -990.0   -990.0   -990.0   -990.0  10122.8   9364.3   \n",
      "4  2000    1    5   -990.0   -990.0   -990.0   -990.0   8037.8   8676.6   \n",
      "5  2000    1    6   -990.0   -990.0   -990.0   -990.0   5250.5   7754.8   \n",
      "6  2000    1    7   -990.0   -990.0   -990.0   -990.0  10800.7   9301.4   \n",
      "7  2000    1    8   -990.0   -990.0   -990.0   -990.0   -990.0   5479.7   \n",
      "8  2000    1    9   -990.0   -990.0   -990.0   -990.0   7046.3   -990.0   \n",
      "9  2000    1   10   -990.0   -990.0   -990.0   -990.0  11147.0   -990.0   \n",
      "\n",
      "   1200562  ...  1200570  1200571  1200575  1200579  1210622  1210683  \\\n",
      "0   -990.0  ...   -990.0   -990.0   -990.0   -990.0   -990.0   -990.0   \n",
      "1   -990.0  ...   -990.0   -990.0   -990.0   -990.0   -990.0   9934.8   \n",
      "2   -990.0  ...   -990.0   -990.0   -990.0   -990.0   -990.0   9652.4   \n",
      "3   -990.0  ...   -990.0   -990.0   -990.0   -990.0   -990.0   9644.2   \n",
      "4   -990.0  ...   -990.0   -990.0   -990.0   -990.0   -990.0   2606.8   \n",
      "5   -990.0  ...   -990.0   -990.0   -990.0   -990.0   -990.0   3018.2   \n",
      "6   -990.0  ...   -990.0   -990.0   -990.0   -990.0   -990.0   -990.0   \n",
      "7   -990.0  ...   -990.0   -990.0   -990.0   -990.0   -990.0   -990.0   \n",
      "8   -990.0  ...   -990.0   -990.0   -990.0   -990.0   -990.0   -990.0   \n",
      "9   -990.0  ...   -990.0   -990.0   -990.0   -990.0   -990.0   -990.0   \n",
      "\n",
      "   1210702  1210718  1210734  1210770  \n",
      "0   -990.0   -990.0   -990.0   -990.0  \n",
      "1   -990.0   -990.0   -990.0   -990.0  \n",
      "2   -990.0   -990.0   -990.0   -990.0  \n",
      "3   -990.0   -990.0   -990.0   -990.0  \n",
      "4   -990.0   -990.0   -990.0   -990.0  \n",
      "5   -990.0   -990.0   -990.0   -990.0  \n",
      "6   -990.0   -990.0   -990.0   -990.0  \n",
      "7   -990.0   -990.0   -990.0   -990.0  \n",
      "8   -990.0   -990.0   -990.0   -990.0  \n",
      "9   -990.0   -990.0   -990.0   -990.0  \n",
      "\n",
      "[10 rows x 21 columns]\n"
     ]
    },
    {
     "data": {
      "text/plain": [
       "ANO          int64\n",
       "MÊS          int64\n",
       "DIA          int64\n",
       "1200545    float64\n",
       "1200548    float64\n",
       "1200551    float64\n",
       "1200554    float64\n",
       "1200558    float64\n",
       "1200560    float64\n",
       "1200562    float64\n",
       "1200567    float64\n",
       "1200570    float64\n",
       "1200571    float64\n",
       "1200575    float64\n",
       "1200579    float64\n",
       "1210622    float64\n",
       "1210683    float64\n",
       "1210702    float64\n",
       "1210718    float64\n",
       "1210734    float64\n",
       "1210770    float64\n",
       "dtype: object"
      ]
     },
     "execution_count": 11,
     "metadata": {},
     "output_type": "execute_result"
    }
   ],
   "source": [
    "#Load sheet5 to a DataFrame\n",
    "radiationTotal = pd.read_excel(from_pathJupyter, sheet_name=5,header=0) \n",
    "\n",
    "print(radiationTotal.head(10))\n",
    "radiationTotal.dtypes"
   ]
  },
  {
   "cell_type": "code",
   "execution_count": 12,
   "id": "varying-inspection",
   "metadata": {},
   "outputs": [],
   "source": [
    "from pathlib import Path\n",
    "\n",
    "to_pathJupyter = Path(\"\"\"../work/Datasets\"\"\")\n",
    "\n",
    "#save dataFramestoCsv\n",
    "stationInfoCsv = stationInfo.to_csv(to_pathJupyter/\"stationsInfo.csv\", sep=',', header=True, index=False, mode='w', encoding=\"utf-8\")\n",
    "avgTemperatureCsv = avgTemperature.to_csv(to_pathJupyter/\"avgTemperature.csv\", sep=',', header=True, index=False, mode='w', decimal='.', encoding=\"utf-8\")\n",
    "maxTemperatureCsv = maxTemperature.to_csv(to_pathJupyter/\"maxTemperature.csv\", sep=',', header=True, index=False, mode='w', decimal='.', encoding=\"utf-8\")\n",
    "minTemperatureCsv = minTemperature.to_csv(to_pathJupyter/\"minTemperature.csv\", sep=',', header=True, index=False, mode='w', decimal='.', encoding=\"utf-8\")\n",
    "rainQtyCsv =        rainQty.to_csv(to_pathJupyter/\"rainQty.csv\", sep=',', header=True, index=False, mode='w', decimal='.', encoding=\"utf-8\")\n",
    "radiationTotalCsv = radiationTotal.to_csv(to_pathJupyter/\"radiationTotal.csv\", sep=',', header=True, index=False, mode='w', decimal='.', encoding=\"utf-8\")"
   ]
  },
  {
   "cell_type": "code",
   "execution_count": 13,
   "id": "twelve-oklahoma",
   "metadata": {},
   "outputs": [
    {
     "data": {
      "text/plain": [
       "'/project_tabd/bronze/csvFiles/weather'"
      ]
     },
     "execution_count": 13,
     "metadata": {},
     "output_type": "execute_result"
    }
   ],
   "source": [
    "# Copy File to bronze layer\n",
    "from hdfs import InsecureClient\n",
    "client = InsecureClient(\"http://hdfs-nn:9870\", user=\"anonymous\")\n",
    "\n",
    "from_path = \"../work/Datasets/\" \n",
    "to_path = \"/project_tabd/bronze/csvFiles/weather/\"\n",
    "client.delete(to_path)\n",
    "\n",
    "client.upload(to_path, from_path)\n",
    "\n",
    "# More HDFS functions here if needed (e.g., write, list files, delete files, rename, delete, etc...)\n",
    "# https://hdfscli.readthedocs.io/en/latest/quickstart.html"
   ]
  },
  {
   "cell_type": "code",
   "execution_count": null,
   "id": "stuffed-acrobat",
   "metadata": {},
   "outputs": [],
   "source": []
  }
 ],
 "metadata": {
  "kernelspec": {
   "display_name": "Python 3",
   "language": "python",
   "name": "python3"
  },
  "language_info": {
   "codemirror_mode": {
    "name": "ipython",
    "version": 3
   },
   "file_extension": ".py",
   "mimetype": "text/x-python",
   "name": "python",
   "nbconvert_exporter": "python",
   "pygments_lexer": "ipython3",
   "version": "3.8.8"
  }
 },
 "nbformat": 4,
 "nbformat_minor": 5
}
